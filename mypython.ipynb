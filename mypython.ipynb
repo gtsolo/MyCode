{
  "cells": [
    {
      "cell_type": "markdown",
      "metadata": {
        "id": "view-in-github",
        "colab_type": "text"
      },
      "source": [
        "<a href=\"https://colab.research.google.com/github/gtsolo/MyCode/blob/main/mypython.ipynb\" target=\"_parent\"><img src=\"https://colab.research.google.com/assets/colab-badge.svg\" alt=\"Open In Colab\"/></a>"
      ]
    },
    {
      "cell_type": "code",
      "execution_count": 1,
      "metadata": {
        "id": "WbqrxoItnay9"
      },
      "outputs": [],
      "source": [
        "import numpy as np"
      ]
    },
    {
      "cell_type": "code",
      "execution_count": 2,
      "metadata": {
        "colab": {
          "base_uri": "https://localhost:8080/"
        },
        "id": "ihpPofnRnazB",
        "outputId": "97c8bc6b-cb65-4eae-d713-a661069131b2"
      },
      "outputs": [
        {
          "output_type": "stream",
          "name": "stdout",
          "text": [
            "[[1 2 3 4]\n",
            " [5 6 7 8]]\n",
            "[ 0.5  3.  30. ]\n",
            "<class 'numpy.ndarray'>\n",
            "<class 'numpy.ndarray'>\n"
          ]
        }
      ],
      "source": [
        "arr1=np.array([0.5,3,30])   #一维数组\n",
        "arr2=np.array([[1,2,3,4],[5,6,7,8]])   #二维数组\n",
        "print(arr2)\n",
        "print(arr1)\n",
        "print(type(arr1))\n",
        "print(type(arr2))"
      ]
    },
    {
      "cell_type": "code",
      "execution_count": 3,
      "metadata": {
        "colab": {
          "base_uri": "https://localhost:8080/"
        },
        "id": "-oqIiJZRnazC",
        "outputId": "6692611e-c647-4a7d-eff8-68d159f0469f"
      },
      "outputs": [
        {
          "output_type": "execute_result",
          "data": {
            "text/plain": [
              "array([ 0.5,  3. , 30. ])"
            ]
          },
          "metadata": {},
          "execution_count": 3
        }
      ],
      "source": [
        "arr1"
      ]
    },
    {
      "cell_type": "code",
      "execution_count": 4,
      "metadata": {
        "colab": {
          "base_uri": "https://localhost:8080/"
        },
        "id": "8GhgukT5nazD",
        "outputId": "ba453898-6597-497e-c8a7-00e5b48bdd05"
      },
      "outputs": [
        {
          "output_type": "execute_result",
          "data": {
            "text/plain": [
              "array([[1, 2, 3, 4],\n",
              "       [5, 6, 7, 8]])"
            ]
          },
          "metadata": {},
          "execution_count": 4
        }
      ],
      "source": [
        "arr2"
      ]
    },
    {
      "cell_type": "code",
      "execution_count": 5,
      "metadata": {
        "colab": {
          "base_uri": "https://localhost:8080/"
        },
        "id": "qI497z41nazD",
        "outputId": "0b6db4ff-2a25-47d0-d30f-6387294497e1"
      },
      "outputs": [
        {
          "output_type": "execute_result",
          "data": {
            "text/plain": [
              "7"
            ]
          },
          "metadata": {},
          "execution_count": 5
        }
      ],
      "source": [
        "arr2[1][2]"
      ]
    },
    {
      "cell_type": "code",
      "execution_count": 6,
      "metadata": {
        "colab": {
          "base_uri": "https://localhost:8080/"
        },
        "id": "Nao_xRRMnazE",
        "outputId": "07fcf2ed-afdb-4c63-ed58-4bd774eafedd"
      },
      "outputs": [
        {
          "output_type": "stream",
          "name": "stdout",
          "text": [
            "(3,)\n"
          ]
        }
      ],
      "source": [
        "print(arr1.shape)"
      ]
    },
    {
      "cell_type": "code",
      "execution_count": 7,
      "metadata": {
        "colab": {
          "base_uri": "https://localhost:8080/"
        },
        "id": "2u7UKlU2nazE",
        "outputId": "f12514d1-4091-430e-bcba-420fb524d3bc"
      },
      "outputs": [
        {
          "output_type": "stream",
          "name": "stdout",
          "text": [
            "2\n",
            "int64\n",
            "float64\n",
            "(2, 4)\n"
          ]
        }
      ],
      "source": [
        "print(arr2.ndim)\n",
        "print(arr2.dtype)\n",
        "print(arr1.dtype)\n",
        "print(arr2.shape)"
      ]
    },
    {
      "cell_type": "markdown",
      "metadata": {
        "id": "j6GSKmBvnazF"
      },
      "source": [
        "#数组特点"
      ]
    },
    {
      "cell_type": "code",
      "execution_count": 8,
      "metadata": {
        "colab": {
          "base_uri": "https://localhost:8080/"
        },
        "id": "TpGSmZkBnazG",
        "outputId": "4d730837-2360-4049-ba18-a1045ba8b5fb"
      },
      "outputs": [
        {
          "output_type": "stream",
          "name": "stdout",
          "text": [
            "[0.3, 0.5, 3.5]\n",
            "[0.3 0.5 3.5]\n",
            "[0.09, 0.25, 12.25]\n",
            "[ 0.09  0.25 12.25]\n"
          ]
        }
      ],
      "source": [
        "list1 = [0.3,0.5,3.5]\n",
        "arr1 = np.array([0.3,0.5,3.5])\n",
        "\n",
        "print(list1)\n",
        "print(arr1)\n",
        "\n",
        "print([i**2 for i in list1])\n",
        "print(arr1**2)"
      ]
    },
    {
      "cell_type": "code",
      "execution_count": 9,
      "metadata": {
        "colab": {
          "base_uri": "https://localhost:8080/"
        },
        "id": "nFGV6n2PnazH",
        "outputId": "4f2a953e-47c0-4040-b342-8c6ba35de053"
      },
      "outputs": [
        {
          "output_type": "stream",
          "name": "stdout",
          "text": [
            "[0 1 2 3 4 5 6 7 8 9]\n",
            "[0 1 2 3 4 5 6 7 8 9]\n",
            "[0.  0.1 0.2 0.3 0.4 0.5 0.6 0.7 0.8 0.9]\n"
          ]
        }
      ],
      "source": [
        "arr3 = np.arange(0,10)\n",
        "arr4 =np.arange(10)\n",
        "arr5 = np.arange(0,1,0.1)\n",
        "print(arr4)\n",
        "print(arr3)\n",
        "print(arr5)"
      ]
    },
    {
      "cell_type": "code",
      "execution_count": 10,
      "metadata": {
        "colab": {
          "base_uri": "https://localhost:8080/"
        },
        "id": "pwozWnGznazI",
        "outputId": "abea94c0-fb08-4f6b-cd61-3e247e2ea634"
      },
      "outputs": [
        {
          "output_type": "stream",
          "name": "stdout",
          "text": [
            "Help on built-in function arange in module numpy:\n",
            "\n",
            "arange(...)\n",
            "    arange([start,] stop[, step,], dtype=None, *, like=None)\n",
            "    \n",
            "    Return evenly spaced values within a given interval.\n",
            "    \n",
            "    Values are generated within the half-open interval ``[start, stop)``\n",
            "    (in other words, the interval including `start` but excluding `stop`).\n",
            "    For integer arguments the function is equivalent to the Python built-in\n",
            "    `range` function, but returns an ndarray rather than a list.\n",
            "    \n",
            "    When using a non-integer step, such as 0.1, the results will often not\n",
            "    be consistent.  It is better to use `numpy.linspace` for these cases.\n",
            "    \n",
            "    Parameters\n",
            "    ----------\n",
            "    start : integer or real, optional\n",
            "        Start of interval.  The interval includes this value.  The default\n",
            "        start value is 0.\n",
            "    stop : integer or real\n",
            "        End of interval.  The interval does not include this value, except\n",
            "        in some cases where `step` is not an integer and floating point\n",
            "        round-off affects the length of `out`.\n",
            "    step : integer or real, optional\n",
            "        Spacing between values.  For any output `out`, this is the distance\n",
            "        between two adjacent values, ``out[i+1] - out[i]``.  The default\n",
            "        step size is 1.  If `step` is specified as a position argument,\n",
            "        `start` must also be given.\n",
            "    dtype : dtype\n",
            "        The type of the output array.  If `dtype` is not given, infer the data\n",
            "        type from the other input arguments.\n",
            "    like : array_like\n",
            "        Reference object to allow the creation of arrays which are not\n",
            "        NumPy arrays. If an array-like passed in as ``like`` supports\n",
            "        the ``__array_function__`` protocol, the result will be defined\n",
            "        by it. In this case, it ensures the creation of an array object\n",
            "        compatible with that passed in via this argument.\n",
            "    \n",
            "        .. versionadded:: 1.20.0\n",
            "    \n",
            "    Returns\n",
            "    -------\n",
            "    arange : ndarray\n",
            "        Array of evenly spaced values.\n",
            "    \n",
            "        For floating point arguments, the length of the result is\n",
            "        ``ceil((stop - start)/step)``.  Because of floating point overflow,\n",
            "        this rule may result in the last element of `out` being greater\n",
            "        than `stop`.\n",
            "    \n",
            "    See Also\n",
            "    --------\n",
            "    numpy.linspace : Evenly spaced numbers with careful handling of endpoints.\n",
            "    numpy.ogrid: Arrays of evenly spaced numbers in N-dimensions.\n",
            "    numpy.mgrid: Grid-shaped arrays of evenly spaced numbers in N-dimensions.\n",
            "    \n",
            "    Examples\n",
            "    --------\n",
            "    >>> np.arange(3)\n",
            "    array([0, 1, 2])\n",
            "    >>> np.arange(3.0)\n",
            "    array([ 0.,  1.,  2.])\n",
            "    >>> np.arange(3,7)\n",
            "    array([3, 4, 5, 6])\n",
            "    >>> np.arange(3,7,2)\n",
            "    array([3, 5])\n",
            "\n"
          ]
        }
      ],
      "source": [
        "help(np.arange)"
      ]
    },
    {
      "cell_type": "code",
      "execution_count": 11,
      "metadata": {
        "colab": {
          "base_uri": "https://localhost:8080/"
        },
        "id": "ajyEN7dXnazI",
        "outputId": "57c3b5b5-36a7-4168-b8e4-0d2edd377156"
      },
      "outputs": [
        {
          "output_type": "stream",
          "name": "stdout",
          "text": [
            "[0.         0.11111111 0.22222222 0.33333333 0.44444444 0.55555556\n",
            " 0.66666667 0.77777778 0.88888889 1.        ]\n"
          ]
        }
      ],
      "source": [
        "arr6 =np.linspace(0,1,10)\n",
        "print(arr6)"
      ]
    },
    {
      "cell_type": "code",
      "execution_count": 12,
      "metadata": {
        "colab": {
          "base_uri": "https://localhost:8080/"
        },
        "id": "yN7Do2HynazJ",
        "outputId": "851d1182-ed1a-4bf0-8eed-bc48aaff56d5"
      },
      "outputs": [
        {
          "output_type": "stream",
          "name": "stdout",
          "text": [
            "[[[0. 0. 0. 0. 0.]\n",
            "  [0. 0. 0. 0. 0.]\n",
            "  [0. 0. 0. 0. 0.]\n",
            "  [0. 0. 0. 0. 0.]]\n",
            "\n",
            " [[0. 0. 0. 0. 0.]\n",
            "  [0. 0. 0. 0. 0.]\n",
            "  [0. 0. 0. 0. 0.]\n",
            "  [0. 0. 0. 0. 0.]]]\n"
          ]
        }
      ],
      "source": [
        "arr7 = np.zeros([2,4,5])\n",
        "print(arr7)"
      ]
    },
    {
      "cell_type": "code",
      "execution_count": 19,
      "metadata": {
        "colab": {
          "base_uri": "https://localhost:8080/"
        },
        "id": "4qdmY4BenazJ",
        "outputId": "1cd780e6-26e3-495b-ccd3-0f2159a2cb14"
      },
      "outputs": [
        {
          "output_type": "stream",
          "name": "stdout",
          "text": [
            "[3. 4. 5.]\n",
            "float64\n",
            "[1 4 5]\n",
            "[1.2 4.  5. ]\n"
          ]
        }
      ],
      "source": [
        "arr8 = np.array([3,4,5],dtype=np.float64)\n",
        "print(arr8)\n",
        "print(arr8.dtype)\n",
        "arr8[0]=1.2\n",
        "\n",
        "print(np.int32(arr8))\n",
        "print(arr8)"
      ]
    },
    {
      "cell_type": "markdown",
      "source": [
        "#生成随机数"
      ],
      "metadata": {
        "id": "K3bKkvRFwG4U"
      }
    },
    {
      "cell_type": "code",
      "source": [
        "print(np.random.random(10))  #无约束条件下的随机数\n",
        "np.random.rand(10)   #均匀分布的随机数\n",
        "np.random.rand(3,4)   \n",
        "np.random.randn(2,3,4)  #指定随机数正态分布"
      ],
      "metadata": {
        "colab": {
          "base_uri": "https://localhost:8080/"
        },
        "id": "3EQYhwvmwYgV",
        "outputId": "577968a7-68a7-4542-af85-e03f926e15ca"
      },
      "execution_count": 26,
      "outputs": [
        {
          "output_type": "stream",
          "name": "stdout",
          "text": [
            "[0.81741824 0.3339259  0.38299641 0.92034885 0.93212923 0.13243518\n",
            " 0.74513609 0.74591418 0.9664202  0.25025354]\n"
          ]
        },
        {
          "output_type": "execute_result",
          "data": {
            "text/plain": [
              "array([[0.16064574, 0.71281428, 0.59706979, 0.22042949],\n",
              "       [0.40208543, 0.05916989, 0.11278958, 0.7551737 ],\n",
              "       [0.47107269, 0.707645  , 0.39360547, 0.63092987]])"
            ]
          },
          "metadata": {},
          "execution_count": 26
        }
      ]
    },
    {
      "cell_type": "markdown",
      "source": [
        "#数组索引"
      ],
      "metadata": {
        "id": "dbIJ4QGkwVR9"
      }
    },
    {
      "cell_type": "code",
      "source": [
        "#一维数组单个索引\n",
        "print(arr1)\n",
        "print(arr1[2])\n",
        "print(arr1[-3:-1])\n",
        "res1 = arr1[2]\n",
        "#一维数组多个索引   \n",
        "res2 = arr1[-3:-1]\n",
        "print(res1,res1.shape)\n",
        "\n",
        "print(res2,res2.shape)"
      ],
      "metadata": {
        "colab": {
          "base_uri": "https://localhost:8080/"
        },
        "id": "EI83_fUUwKnz",
        "outputId": "9e3a228c-cd8d-41c2-93d6-2eef52879d69"
      },
      "execution_count": 49,
      "outputs": [
        {
          "output_type": "stream",
          "name": "stdout",
          "text": [
            "[0.3 0.5 3.5]\n",
            "3.5\n",
            "[0.3 0.5]\n",
            "3.5 ()\n",
            "[0.3 0.5] (2,)\n"
          ]
        }
      ]
    },
    {
      "cell_type": "code",
      "source": [
        "#逻辑索引\n",
        "arr1=np.array([2.3,1.8,6.5])\n",
        "print(arr1)\n",
        "print(arr1[[False,False,True]])\n",
        "index=arr1>2\n",
        "print(arr1[index])\n"
      ],
      "metadata": {
        "colab": {
          "base_uri": "https://localhost:8080/"
        },
        "id": "GyBfwELL1Tlf",
        "outputId": "08cee10f-437a-4b20-b395-c35d7df9a128"
      },
      "execution_count": 55,
      "outputs": [
        {
          "output_type": "stream",
          "name": "stdout",
          "text": [
            "[2.3 1.8 6.5]\n",
            "[6.5]\n",
            "[2.3 6.5]\n"
          ]
        }
      ]
    },
    {
      "cell_type": "code",
      "source": [
        "#多维数组索引\n",
        "\n",
        "arr3 = np.arange(0,12).reshape([3,4])\n",
        "print(arr3)\n",
        "print(arr3[2,3])\n",
        "print(arr3[2,0:])\n",
        "print(arr3[:,0])\n",
        "print(arr3[1:3,1:3])\n",
        "print(\"--------\")\n",
        "print(arr3[2:,:])\n",
        "print(arr3[arr3[:,0]>5,:])"
      ],
      "metadata": {
        "colab": {
          "base_uri": "https://localhost:8080/"
        },
        "id": "jiTAXg1N5RBb",
        "outputId": "1d9bcd27-3f58-4589-a746-66bca64b38d8"
      },
      "execution_count": 77,
      "outputs": [
        {
          "output_type": "stream",
          "name": "stdout",
          "text": [
            "[[ 0  1  2  3]\n",
            " [ 4  5  6  7]\n",
            " [ 8  9 10 11]]\n",
            "11\n",
            "[ 8  9 10 11]\n",
            "[0 4 8]\n",
            "[[ 5  6]\n",
            " [ 9 10]]\n",
            "--------\n",
            "[[ 8  9 10 11]]\n",
            "[[ 8  9 10 11]]\n"
          ]
        }
      ]
    },
    {
      "cell_type": "markdown",
      "source": [
        "#修改数组元素"
      ],
      "metadata": {
        "id": "MPl36Ofh6aOq"
      }
    },
    {
      "cell_type": "code",
      "source": [
        "arr3 =np.arange(0,12).reshape([3,4])\n",
        "print(arr3)\n",
        "arr3[0,0]=15\n",
        "print(arr3)"
      ],
      "metadata": {
        "colab": {
          "base_uri": "https://localhost:8080/"
        },
        "id": "hKUB4UVMU8jt",
        "outputId": "dc4277b2-da86-445f-e81a-bdc22fc152d7"
      },
      "execution_count": 81,
      "outputs": [
        {
          "output_type": "stream",
          "name": "stdout",
          "text": [
            "[[ 0  1  2  3]\n",
            " [ 4  5  6  7]\n",
            " [ 8  9 10 11]]\n",
            "[[15  1  2  3]\n",
            " [ 4  5  6  7]\n",
            " [ 8  9 10 11]]\n"
          ]
        }
      ]
    },
    {
      "cell_type": "code",
      "source": [
        "#求解距离坐标\n",
        "n = 100\n",
        "x =np.linspace(1,1000,n)\n",
        "y = np.linspace(1,1000,n)\n",
        "dist=np.zeros([n,n])\n",
        "\n",
        "dist[0,1] = np.sqrt((x[0]-x[1])**2+(y[0]-y[1])**2)\n",
        "for i in range(n):\n",
        "  for j in range(n):\n",
        "    dist[i,j] = np.sqrt((x[i]-x[j])**2+(y[i]-y[j])**2)\n",
        "print(x)\n",
        "print(y)\n",
        "print(dist)"
      ],
      "metadata": {
        "colab": {
          "base_uri": "https://localhost:8080/"
        },
        "id": "kneqDdXyVt1O",
        "outputId": "81fc3fe0-f9fa-4b72-b7a4-0de17e0ec8bf"
      },
      "execution_count": 94,
      "outputs": [
        {
          "output_type": "stream",
          "name": "stdout",
          "text": [
            "[   1.           11.09090909   21.18181818   31.27272727   41.36363636\n",
            "   51.45454545   61.54545455   71.63636364   81.72727273   91.81818182\n",
            "  101.90909091  112.          122.09090909  132.18181818  142.27272727\n",
            "  152.36363636  162.45454545  172.54545455  182.63636364  192.72727273\n",
            "  202.81818182  212.90909091  223.          233.09090909  243.18181818\n",
            "  253.27272727  263.36363636  273.45454545  283.54545455  293.63636364\n",
            "  303.72727273  313.81818182  323.90909091  334.          344.09090909\n",
            "  354.18181818  364.27272727  374.36363636  384.45454545  394.54545455\n",
            "  404.63636364  414.72727273  424.81818182  434.90909091  445.\n",
            "  455.09090909  465.18181818  475.27272727  485.36363636  495.45454545\n",
            "  505.54545455  515.63636364  525.72727273  535.81818182  545.90909091\n",
            "  556.          566.09090909  576.18181818  586.27272727  596.36363636\n",
            "  606.45454545  616.54545455  626.63636364  636.72727273  646.81818182\n",
            "  656.90909091  667.          677.09090909  687.18181818  697.27272727\n",
            "  707.36363636  717.45454545  727.54545455  737.63636364  747.72727273\n",
            "  757.81818182  767.90909091  778.          788.09090909  798.18181818\n",
            "  808.27272727  818.36363636  828.45454545  838.54545455  848.63636364\n",
            "  858.72727273  868.81818182  878.90909091  889.          899.09090909\n",
            "  909.18181818  919.27272727  929.36363636  939.45454545  949.54545455\n",
            "  959.63636364  969.72727273  979.81818182  989.90909091 1000.        ]\n",
            "[   1.           11.09090909   21.18181818   31.27272727   41.36363636\n",
            "   51.45454545   61.54545455   71.63636364   81.72727273   91.81818182\n",
            "  101.90909091  112.          122.09090909  132.18181818  142.27272727\n",
            "  152.36363636  162.45454545  172.54545455  182.63636364  192.72727273\n",
            "  202.81818182  212.90909091  223.          233.09090909  243.18181818\n",
            "  253.27272727  263.36363636  273.45454545  283.54545455  293.63636364\n",
            "  303.72727273  313.81818182  323.90909091  334.          344.09090909\n",
            "  354.18181818  364.27272727  374.36363636  384.45454545  394.54545455\n",
            "  404.63636364  414.72727273  424.81818182  434.90909091  445.\n",
            "  455.09090909  465.18181818  475.27272727  485.36363636  495.45454545\n",
            "  505.54545455  515.63636364  525.72727273  535.81818182  545.90909091\n",
            "  556.          566.09090909  576.18181818  586.27272727  596.36363636\n",
            "  606.45454545  616.54545455  626.63636364  636.72727273  646.81818182\n",
            "  656.90909091  667.          677.09090909  687.18181818  697.27272727\n",
            "  707.36363636  717.45454545  727.54545455  737.63636364  747.72727273\n",
            "  757.81818182  767.90909091  778.          788.09090909  798.18181818\n",
            "  808.27272727  818.36363636  828.45454545  838.54545455  848.63636364\n",
            "  858.72727273  868.81818182  878.90909091  889.          899.09090909\n",
            "  909.18181818  919.27272727  929.36363636  939.45454545  949.54545455\n",
            "  959.63636364  969.72727273  979.81818182  989.90909091 1000.        ]\n",
            "[[   0.           14.27070049   28.54140099 ... 1384.25794782\n",
            "  1398.52864832 1412.79934881]\n",
            " [  14.27070049    0.           14.27070049 ... 1369.98724733\n",
            "  1384.25794782 1398.52864832]\n",
            " [  28.54140099   14.27070049    0.         ... 1355.71654684\n",
            "  1369.98724733 1384.25794782]\n",
            " ...\n",
            " [1384.25794782 1369.98724733 1355.71654684 ...    0.\n",
            "    14.27070049   28.54140099]\n",
            " [1398.52864832 1384.25794782 1369.98724733 ...   14.27070049\n",
            "     0.           14.27070049]\n",
            " [1412.79934881 1398.52864832 1384.25794782 ...   28.54140099\n",
            "    14.27070049    0.        ]]\n"
          ]
        }
      ]
    },
    {
      "cell_type": "markdown",
      "source": [
        "#数组形态变化"
      ],
      "metadata": {
        "id": "4lCpDIOnYkus"
      }
    },
    {
      "cell_type": "code",
      "source": [
        "arr4 =np.arange(1,13)\n",
        "print(arr4)\n",
        "print(arr4.reshape([3,4]))\n",
        "print(arr4.reshape([4,3]))\n",
        "arr5 = arr4.reshape([3,4])\n",
        "print(arr5)\n",
        "print(arr5.ravel())   #数组展平\n",
        "arr6=arr5.flatten()   #数组展平\n",
        "arr6=arr5.flatten('F')\n",
        "print(arr6)\n",
        "print('-----------')\n",
        "arr7=arr4.reshape([3,4])\n",
        "print(np.vstack([arr5,arr7]))\n",
        "\n",
        "print(np.hstack([arr5,arr7]))"
      ],
      "metadata": {
        "colab": {
          "base_uri": "https://localhost:8080/"
        },
        "id": "zhlqsXBmYqFU",
        "outputId": "1e1462d5-29eb-4a46-fb97-506dfd569d2c"
      },
      "execution_count": 103,
      "outputs": [
        {
          "output_type": "stream",
          "name": "stdout",
          "text": [
            "[ 1  2  3  4  5  6  7  8  9 10 11 12]\n",
            "[[ 1  2  3  4]\n",
            " [ 5  6  7  8]\n",
            " [ 9 10 11 12]]\n",
            "[[ 1  2  3]\n",
            " [ 4  5  6]\n",
            " [ 7  8  9]\n",
            " [10 11 12]]\n",
            "[[ 1  2  3  4]\n",
            " [ 5  6  7  8]\n",
            " [ 9 10 11 12]]\n",
            "[ 1  2  3  4  5  6  7  8  9 10 11 12]\n",
            "[ 1  5  9  2  6 10  3  7 11  4  8 12]\n",
            "-----------\n",
            "[[ 1  2  3  4]\n",
            " [ 5  6  7  8]\n",
            " [ 9 10 11 12]\n",
            " [ 1  2  3  4]\n",
            " [ 5  6  7  8]\n",
            " [ 9 10 11 12]]\n",
            "[[ 1  2  3  4  1  2  3  4]\n",
            " [ 5  6  7  8  5  6  7  8]\n",
            " [ 9 10 11 12  9 10 11 12]]\n"
          ]
        }
      ]
    },
    {
      "cell_type": "code",
      "source": [
        ""
      ],
      "metadata": {
        "id": "ZwX1bJtDZEPK"
      },
      "execution_count": null,
      "outputs": []
    }
  ],
  "metadata": {
    "kernelspec": {
      "display_name": "Python 3",
      "language": "python",
      "name": "python3"
    },
    "language_info": {
      "codemirror_mode": {
        "name": "ipython",
        "version": 3
      },
      "file_extension": ".py",
      "mimetype": "text/x-python",
      "name": "python",
      "nbconvert_exporter": "python",
      "pygments_lexer": "ipython3",
      "version": "3.8.3"
    },
    "colab": {
      "name": "mypython.ipynb",
      "provenance": [],
      "collapsed_sections": [],
      "include_colab_link": true
    }
  },
  "nbformat": 4,
  "nbformat_minor": 0
}