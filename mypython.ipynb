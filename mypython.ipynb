{
  "cells": [
    {
      "cell_type": "markdown",
      "metadata": {
        "id": "view-in-github",
        "colab_type": "text"
      },
      "source": [
        "<a href=\"https://colab.research.google.com/github/gtsolo/MyCode/blob/main/mypython.ipynb\" target=\"_parent\"><img src=\"https://colab.research.google.com/assets/colab-badge.svg\" alt=\"Open In Colab\"/></a>"
      ]
    },
    {
      "cell_type": "code",
      "execution_count": null,
      "metadata": {
        "id": "IzSBnwmEA-eg"
      },
      "outputs": [],
      "source": [
        "import numpy as np"
      ]
    },
    {
      "cell_type": "code",
      "execution_count": null,
      "metadata": {
        "id": "nUfiGlDkA-ej",
        "outputId": "7c466c45-8ea6-4849-8105-006390ddb04d"
      },
      "outputs": [
        {
          "name": "stdout",
          "output_type": "stream",
          "text": [
            "[[1 2 3 4]\n",
            " [5 6 7 8]]\n",
            "[ 0.5  3.  30. ]\n",
            "<class 'numpy.ndarray'>\n",
            "<class 'numpy.ndarray'>\n"
          ]
        }
      ],
      "source": [
        "arr1=np.array([0.5,3,30])   #一维数组\n",
        "arr2=np.array([[1,2,3,4],[5,6,7,8]])   #二维数组\n",
        "print(arr2)\n",
        "print(arr1)\n",
        "print(type(arr1))\n",
        "print(type(arr2))"
      ]
    },
    {
      "cell_type": "code",
      "execution_count": null,
      "metadata": {
        "id": "vUAk2kn4A-el",
        "outputId": "2f4895f2-df07-45af-fe19-58b733414c86"
      },
      "outputs": [
        {
          "data": {
            "text/plain": [
              "array([ 0.5,  3. , 30. ])"
            ]
          },
          "execution_count": 4,
          "metadata": {},
          "output_type": "execute_result"
        }
      ],
      "source": [
        "arr1"
      ]
    },
    {
      "cell_type": "code",
      "execution_count": null,
      "metadata": {
        "id": "CXZxLyeaA-el",
        "outputId": "e84d6ccf-6ad7-48b8-f0e3-77c6cc6b1051"
      },
      "outputs": [
        {
          "data": {
            "text/plain": [
              "array([[1, 2, 3, 4],\n",
              "       [5, 6, 7, 8]])"
            ]
          },
          "execution_count": 10,
          "metadata": {},
          "output_type": "execute_result"
        }
      ],
      "source": [
        "arr2"
      ]
    },
    {
      "cell_type": "code",
      "execution_count": null,
      "metadata": {
        "id": "Rf2l-ts0A-em",
        "outputId": "fb10971e-ee66-402d-ffca-4628ac13d3fb"
      },
      "outputs": [
        {
          "data": {
            "text/plain": [
              "7"
            ]
          },
          "execution_count": 13,
          "metadata": {},
          "output_type": "execute_result"
        }
      ],
      "source": [
        "arr2[1][2]"
      ]
    },
    {
      "cell_type": "code",
      "execution_count": null,
      "metadata": {
        "id": "ooWs5w3KA-em",
        "outputId": "a55cff11-acb4-4c29-8d5c-810f5eb664f3"
      },
      "outputs": [
        {
          "name": "stdout",
          "output_type": "stream",
          "text": [
            "(3,)\n"
          ]
        }
      ],
      "source": [
        "print(arr1.shape)"
      ]
    },
    {
      "cell_type": "code",
      "execution_count": null,
      "metadata": {
        "id": "GCBxgujrA-en",
        "outputId": "23577793-9030-406d-ac6e-aa20f10a75a2"
      },
      "outputs": [
        {
          "name": "stdout",
          "output_type": "stream",
          "text": [
            "2\n",
            "int32\n",
            "float64\n",
            "(2, 4)\n"
          ]
        }
      ],
      "source": [
        "print(arr2.ndim)\n",
        "print(arr2.dtype)\n",
        "print(arr1.dtype)\n",
        "print(arr2.shape)"
      ]
    },
    {
      "cell_type": "markdown",
      "metadata": {
        "id": "tv1ptkhyA-eo"
      },
      "source": [
        "#数组特点"
      ]
    },
    {
      "cell_type": "code",
      "execution_count": null,
      "metadata": {
        "id": "GRBU7hWBA-ep",
        "outputId": "cbf3e36a-531a-4f20-a534-14b2f1942ab2"
      },
      "outputs": [
        {
          "name": "stdout",
          "output_type": "stream",
          "text": [
            "[0.3, 0.5, 3.5]\n",
            "[0.3 0.5 3.5]\n",
            "[0.09, 0.25, 12.25]\n",
            "[ 0.09  0.25 12.25]\n"
          ]
        }
      ],
      "source": [
        "list1 = [0.3,0.5,3.5]\n",
        "arr1 = np.array([0.3,0.5,3.5])\n",
        "\n",
        "print(list1)\n",
        "print(arr1)\n",
        "\n",
        "print([i**2 for i in list1])\n",
        "print(arr1**2)"
      ]
    },
    {
      "cell_type": "code",
      "execution_count": null,
      "metadata": {
        "id": "-pjFviFRA-eq",
        "outputId": "621ef882-0807-4157-8dda-09ce573e64f9"
      },
      "outputs": [
        {
          "name": "stdout",
          "output_type": "stream",
          "text": [
            "[0 1 2 3 4 5 6 7 8 9]\n",
            "[0 1 2 3 4 5 6 7 8 9]\n",
            "[0.  0.1 0.2 0.3 0.4 0.5 0.6 0.7 0.8 0.9]\n"
          ]
        }
      ],
      "source": [
        "arr3 = np.arange(0,10)\n",
        "arr4 =np.arange(10)\n",
        "arr5 = np.arange(0,1,0.1)\n",
        "print(arr4)\n",
        "print(arr3)\n",
        "print(arr5)"
      ]
    },
    {
      "cell_type": "code",
      "execution_count": null,
      "metadata": {
        "id": "np4gaXnAA-er",
        "outputId": "d1fea6ea-d6c2-491e-d30e-512b5a579385"
      },
      "outputs": [
        {
          "name": "stdout",
          "output_type": "stream",
          "text": [
            "Help on built-in function arange in module numpy:\n",
            "\n",
            "arange(...)\n",
            "    arange([start,] stop[, step,], dtype=None)\n",
            "    \n",
            "    Return evenly spaced values within a given interval.\n",
            "    \n",
            "    Values are generated within the half-open interval ``[start, stop)``\n",
            "    (in other words, the interval including `start` but excluding `stop`).\n",
            "    For integer arguments the function is equivalent to the Python built-in\n",
            "    `range` function, but returns an ndarray rather than a list.\n",
            "    \n",
            "    When using a non-integer step, such as 0.1, the results will often not\n",
            "    be consistent.  It is better to use `numpy.linspace` for these cases.\n",
            "    \n",
            "    Parameters\n",
            "    ----------\n",
            "    start : number, optional\n",
            "        Start of interval.  The interval includes this value.  The default\n",
            "        start value is 0.\n",
            "    stop : number\n",
            "        End of interval.  The interval does not include this value, except\n",
            "        in some cases where `step` is not an integer and floating point\n",
            "        round-off affects the length of `out`.\n",
            "    step : number, optional\n",
            "        Spacing between values.  For any output `out`, this is the distance\n",
            "        between two adjacent values, ``out[i+1] - out[i]``.  The default\n",
            "        step size is 1.  If `step` is specified as a position argument,\n",
            "        `start` must also be given.\n",
            "    dtype : dtype\n",
            "        The type of the output array.  If `dtype` is not given, infer the data\n",
            "        type from the other input arguments.\n",
            "    \n",
            "    Returns\n",
            "    -------\n",
            "    arange : ndarray\n",
            "        Array of evenly spaced values.\n",
            "    \n",
            "        For floating point arguments, the length of the result is\n",
            "        ``ceil((stop - start)/step)``.  Because of floating point overflow,\n",
            "        this rule may result in the last element of `out` being greater\n",
            "        than `stop`.\n",
            "    \n",
            "    See Also\n",
            "    --------\n",
            "    numpy.linspace : Evenly spaced numbers with careful handling of endpoints.\n",
            "    numpy.ogrid: Arrays of evenly spaced numbers in N-dimensions.\n",
            "    numpy.mgrid: Grid-shaped arrays of evenly spaced numbers in N-dimensions.\n",
            "    \n",
            "    Examples\n",
            "    --------\n",
            "    >>> np.arange(3)\n",
            "    array([0, 1, 2])\n",
            "    >>> np.arange(3.0)\n",
            "    array([ 0.,  1.,  2.])\n",
            "    >>> np.arange(3,7)\n",
            "    array([3, 4, 5, 6])\n",
            "    >>> np.arange(3,7,2)\n",
            "    array([3, 5])\n",
            "\n"
          ]
        }
      ],
      "source": [
        "help(np.arange)"
      ]
    },
    {
      "cell_type": "code",
      "execution_count": null,
      "metadata": {
        "id": "sDEzjKTaA-es",
        "outputId": "04eeb186-985c-4e06-af36-0fa695289cba"
      },
      "outputs": [
        {
          "name": "stdout",
          "output_type": "stream",
          "text": [
            "[0.         0.11111111 0.22222222 0.33333333 0.44444444 0.55555556\n",
            " 0.66666667 0.77777778 0.88888889 1.        ]\n"
          ]
        }
      ],
      "source": [
        "arr6 =np.linspace(0,1,10)\n",
        "print(arr6)"
      ]
    },
    {
      "cell_type": "code",
      "execution_count": null,
      "metadata": {
        "id": "pCeWOLtYA-es",
        "outputId": "cfbf6869-6879-4fd1-909e-d07e22589264"
      },
      "outputs": [
        {
          "name": "stdout",
          "output_type": "stream",
          "text": [
            "[[[0. 0. 0. 0. 0.]\n",
            "  [0. 0. 0. 0. 0.]\n",
            "  [0. 0. 0. 0. 0.]\n",
            "  [0. 0. 0. 0. 0.]]\n",
            "\n",
            " [[0. 0. 0. 0. 0.]\n",
            "  [0. 0. 0. 0. 0.]\n",
            "  [0. 0. 0. 0. 0.]\n",
            "  [0. 0. 0. 0. 0.]]]\n"
          ]
        }
      ],
      "source": [
        "arr7 = np.zeros([2,4,5])\n",
        "print(arr7)"
      ]
    },
    {
      "cell_type": "markdown",
      "source": [
        "#掌握Numpy矩阵于通用函数"
      ],
      "metadata": {
        "id": "9dTL1bG1A-es"
      }
    },
    {
      "cell_type": "code",
      "source": [
        "import numpy as np\n",
        "matr1 = np.mat(\"1,2,3;4,5,6;7,8,9\")\n",
        "print(matr1)\n",
        "print(type(matr1))\n",
        "\n",
        "matr2 = np.matrix([[1,2,3],[4,5,6],[7,8,9]])\n",
        "print(matr2)\n",
        "print(type(matr2))\n",
        "#print(np.bmat('matr1 matr2;matr1,matr2'))  #矩阵拼接\n",
        "print(matr1.T)   #矩阵转置\n",
        "\n",
        "print(matr1.H)\n"
      ],
      "metadata": {
        "colab": {
          "base_uri": "https://localhost:8080/"
        },
        "id": "T98fdjJCFIQE",
        "outputId": "bdb8d6d6-2be7-46e9-af70-f4a98d5cebfb"
      },
      "execution_count": null,
      "outputs": [
        {
          "output_type": "stream",
          "name": "stdout",
          "text": [
            "[[1 2 3]\n",
            " [4 5 6]\n",
            " [7 8 9]]\n",
            "<class 'numpy.matrix'>\n",
            "[[1 2 3]\n",
            " [4 5 6]\n",
            " [7 8 9]]\n",
            "<class 'numpy.matrix'>\n",
            "[[1 4 7]\n",
            " [2 5 8]\n",
            " [3 6 9]]\n",
            "[[1 4 7]\n",
            " [2 5 8]\n",
            " [3 6 9]]\n"
          ]
        }
      ]
    },
    {
      "cell_type": "code",
      "source": [
        "arr1 = np.array([0.2,0.4,0.6])\n",
        "list1 = [0.2,0.4,0.6]\n",
        "arr2 = np.array([0.2,0.6,0.8])\n",
        "\n",
        "print(arr1+1)\n",
        "#print(list1+1)  非法操作\n",
        "print(arr1*2)\n",
        "print(list1*2)\n",
        "print(arr1+arr2)\n",
        "print(arr2*arr2)\n",
        "\n",
        "print(arr1>0.2)\n",
        "\n",
        "print(np.any(arr1>0.2))  #逻辑or\n",
        "print(np.all(arr1>0.2))   #逻辑and\n",
        "\n"
      ],
      "metadata": {
        "colab": {
          "base_uri": "https://localhost:8080/"
        },
        "id": "NMU-3nlX2Uuu",
        "outputId": "7f5231c5-5d82-4a13-fe90-c6f8a405278c"
      },
      "execution_count": 13,
      "outputs": [
        {
          "output_type": "stream",
          "name": "stdout",
          "text": [
            "[1.2 1.4 1.6]\n",
            "[0.4 0.8 1.2]\n",
            "[0.2, 0.4, 0.6, 0.2, 0.4, 0.6]\n",
            "[0.4 1.  1.4]\n",
            "[0.04 0.36 0.64]\n",
            "[False  True  True]\n",
            "True\n",
            "False\n"
          ]
        }
      ]
    },
    {
      "cell_type": "code",
      "source": [
        "arr3 = np.arange(1,13).reshape([4,3])\n",
        "arr4 = np.array([1,2,3])\n",
        "arr5 = np.array([[1],[2],[3],[4]])\n",
        "print(arr3)\n",
        "print(arr4)\n",
        "print(arr3+arr4)\n",
        "print(arr3+arr5)"
      ],
      "metadata": {
        "colab": {
          "base_uri": "https://localhost:8080/"
        },
        "id": "XiCaiphq5biH",
        "outputId": "f96d0200-601f-417d-edd1-759f0595b5b8"
      },
      "execution_count": 17,
      "outputs": [
        {
          "output_type": "stream",
          "name": "stdout",
          "text": [
            "[[ 1  2  3]\n",
            " [ 4  5  6]\n",
            " [ 7  8  9]\n",
            " [10 11 12]]\n",
            "[1 2 3]\n",
            "[[ 2  4  6]\n",
            " [ 5  7  9]\n",
            " [ 8 10 12]\n",
            " [11 13 15]]\n",
            "[[ 2  3  4]\n",
            " [ 6  7  8]\n",
            " [10 11 12]\n",
            " [14 15 16]]\n"
          ]
        }
      ]
    },
    {
      "cell_type": "markdown",
      "source": [
        "#利用numpy进行数据分析"
      ],
      "metadata": {
        "id": "LvZ5U4lr635i"
      }
    },
    {
      "cell_type": "code",
      "source": [
        "#保存为二进制文件\n",
        "import numpy as np\n",
        "arr1 =np.arange(1,13).reshape([4,3])\n",
        "arr2 = np.arange(1,13)\n",
        "print(arr1)\n",
        "np.save('/content/arr1.npy',arr1)\n",
        "ar1= np.load('/content/arr1.npy')\n",
        "print(ar1)\n",
        "np.savez('/content/arr1$2.npz',arr1,arr2)  #保存多个数据\n",
        "ar2 = np.load('/content/arr1$2.npz')\n",
        "print(ar2)    #查看有哪些数组对象\n",
        "ar2.files #查看有哪些数组对象\n",
        "ar2['arr_0']  #查看文件中具体数据对象"
      ],
      "metadata": {
        "colab": {
          "base_uri": "https://localhost:8080/"
        },
        "id": "NNYjmd4t7GSW",
        "outputId": "10f665eb-b864-46e6-d673-709cc57f7b5d"
      },
      "execution_count": 35,
      "outputs": [
        {
          "output_type": "stream",
          "name": "stdout",
          "text": [
            "[[ 1  2  3]\n",
            " [ 4  5  6]\n",
            " [ 7  8  9]\n",
            " [10 11 12]]\n",
            "[[ 1  2  3]\n",
            " [ 4  5  6]\n",
            " [ 7  8  9]\n",
            " [10 11 12]]\n",
            "<numpy.lib.npyio.NpzFile object at 0x7f4e61611e90>\n"
          ]
        },
        {
          "output_type": "execute_result",
          "data": {
            "text/plain": [
              "array([[ 1,  2,  3],\n",
              "       [ 4,  5,  6],\n",
              "       [ 7,  8,  9],\n",
              "       [10, 11, 12]])"
            ]
          },
          "metadata": {},
          "execution_count": 35
        }
      ]
    },
    {
      "cell_type": "code",
      "source": [
        "#读写文本文件txt\n",
        "np.savetxt('/content/arr1.txt',arr1,delimiter=',')  #保存\n",
        "np.loadtxt('/content/arr1.txt',delimiter=',')     #读取"
      ],
      "metadata": {
        "colab": {
          "base_uri": "https://localhost:8080/"
        },
        "id": "P1vSDoIS71kh",
        "outputId": "59754792-9ec1-4d57-b781-3abf6ff97489"
      },
      "execution_count": 43,
      "outputs": [
        {
          "output_type": "execute_result",
          "data": {
            "text/plain": [
              "array([[ 1.,  2.,  3.],\n",
              "       [ 4.,  5.,  6.],\n",
              "       [ 7.,  8.,  9.],\n",
              "       [10., 11., 12.]])"
            ]
          },
          "metadata": {},
          "execution_count": 43
        }
      ]
    },
    {
      "cell_type": "code",
      "source": [
        "#使用数组来统计\n",
        "arr3 = np.random.randint(1,10,(3,4))\n",
        "print(arr3)\n",
        "arr3.sort(axis=1)  #按行排序\n",
        "print(arr3)\n",
        "print(arr3.argsort(axis=1))  #返回下标\n",
        "print(np.tile(arr3,3))   #数组元素复制\n",
        "print(np.repeat(arr3,2,axis=0)) #数组元素复制\n",
        "\n",
        "print(arr3.mean())  #统计所有元素均值\n",
        "print(arr3.mean(axis=0))\n",
        "print(arr3.max(axis=1))\n",
        "arr3.argmax(axis=0)   #找出每列最大值的位置\n",
        "\n",
        "arr3.std(axis=0)"
      ],
      "metadata": {
        "colab": {
          "base_uri": "https://localhost:8080/"
        },
        "id": "0mQ3XxnzAxPZ",
        "outputId": "86ae5182-f31f-413f-df12-502bb459cb09"
      },
      "execution_count": 61,
      "outputs": [
        {
          "output_type": "stream",
          "name": "stdout",
          "text": [
            "[[7 9 7 2]\n",
            " [7 6 5 7]\n",
            " [7 3 5 4]]\n",
            "[[2 7 7 9]\n",
            " [5 6 7 7]\n",
            " [3 4 5 7]]\n",
            "[[0 1 2 3]\n",
            " [0 1 2 3]\n",
            " [0 1 2 3]]\n",
            "[[2 7 7 9 2 7 7 9 2 7 7 9]\n",
            " [5 6 7 7 5 6 7 7 5 6 7 7]\n",
            " [3 4 5 7 3 4 5 7 3 4 5 7]]\n",
            "[[2 7 7 9]\n",
            " [2 7 7 9]\n",
            " [5 6 7 7]\n",
            " [5 6 7 7]\n",
            " [3 4 5 7]\n",
            " [3 4 5 7]]\n",
            "5.75\n",
            "[3.33333333 5.66666667 6.33333333 7.66666667]\n",
            "[9 7 7]\n"
          ]
        },
        {
          "output_type": "execute_result",
          "data": {
            "text/plain": [
              "array([1.24721913, 1.24721913, 0.94280904, 0.94280904])"
            ]
          },
          "metadata": {},
          "execution_count": 61
        }
      ]
    },
    {
      "cell_type": "code",
      "source": [
        ""
      ],
      "metadata": {
        "id": "fuEW2QagHxPA"
      },
      "execution_count": null,
      "outputs": []
    }
  ],
  "metadata": {
    "kernelspec": {
      "display_name": "Python 3",
      "language": "python",
      "name": "python3"
    },
    "language_info": {
      "codemirror_mode": {
        "name": "ipython",
        "version": 3
      },
      "file_extension": ".py",
      "mimetype": "text/x-python",
      "name": "python",
      "nbconvert_exporter": "python",
      "pygments_lexer": "ipython3",
      "version": "3.8.3"
    },
    "colab": {
      "name": "mypython.ipynb",
      "provenance": [],
      "collapsed_sections": [],
      "include_colab_link": true
    }
  },
  "nbformat": 4,
  "nbformat_minor": 0
}