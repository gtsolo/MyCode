{
  "cells": [
    {
      "cell_type": "markdown",
      "metadata": {
        "id": "view-in-github",
        "colab_type": "text"
      },
      "source": [
        "<a href=\"https://colab.research.google.com/github/gtsolo/MyCode/blob/main/mypython.ipynb\" target=\"_parent\"><img src=\"https://colab.research.google.com/assets/colab-badge.svg\" alt=\"Open In Colab\"/></a>"
      ]
    },
    {
      "cell_type": "code",
      "execution_count": null,
      "metadata": {
        "id": "IzSBnwmEA-eg"
      },
      "outputs": [],
      "source": [
        "import numpy as np"
      ]
    },
    {
      "cell_type": "code",
      "execution_count": null,
      "metadata": {
        "id": "nUfiGlDkA-ej",
        "outputId": "7c466c45-8ea6-4849-8105-006390ddb04d"
      },
      "outputs": [
        {
          "name": "stdout",
          "output_type": "stream",
          "text": [
            "[[1 2 3 4]\n",
            " [5 6 7 8]]\n",
            "[ 0.5  3.  30. ]\n",
            "<class 'numpy.ndarray'>\n",
            "<class 'numpy.ndarray'>\n"
          ]
        }
      ],
      "source": [
        "arr1=np.array([0.5,3,30])   #一维数组\n",
        "arr2=np.array([[1,2,3,4],[5,6,7,8]])   #二维数组\n",
        "print(arr2)\n",
        "print(arr1)\n",
        "print(type(arr1))\n",
        "print(type(arr2))"
      ]
    },
    {
      "cell_type": "code",
      "execution_count": null,
      "metadata": {
        "id": "vUAk2kn4A-el",
        "outputId": "2f4895f2-df07-45af-fe19-58b733414c86"
      },
      "outputs": [
        {
          "data": {
            "text/plain": [
              "array([ 0.5,  3. , 30. ])"
            ]
          },
          "execution_count": 4,
          "metadata": {},
          "output_type": "execute_result"
        }
      ],
      "source": [
        "arr1"
      ]
    },
    {
      "cell_type": "code",
      "execution_count": null,
      "metadata": {
        "id": "CXZxLyeaA-el",
        "outputId": "e84d6ccf-6ad7-48b8-f0e3-77c6cc6b1051"
      },
      "outputs": [
        {
          "data": {
            "text/plain": [
              "array([[1, 2, 3, 4],\n",
              "       [5, 6, 7, 8]])"
            ]
          },
          "execution_count": 10,
          "metadata": {},
          "output_type": "execute_result"
        }
      ],
      "source": [
        "arr2"
      ]
    },
    {
      "cell_type": "code",
      "execution_count": null,
      "metadata": {
        "id": "Rf2l-ts0A-em",
        "outputId": "fb10971e-ee66-402d-ffca-4628ac13d3fb"
      },
      "outputs": [
        {
          "data": {
            "text/plain": [
              "7"
            ]
          },
          "execution_count": 13,
          "metadata": {},
          "output_type": "execute_result"
        }
      ],
      "source": [
        "arr2[1][2]"
      ]
    },
    {
      "cell_type": "code",
      "execution_count": null,
      "metadata": {
        "id": "ooWs5w3KA-em",
        "outputId": "a55cff11-acb4-4c29-8d5c-810f5eb664f3"
      },
      "outputs": [
        {
          "name": "stdout",
          "output_type": "stream",
          "text": [
            "(3,)\n"
          ]
        }
      ],
      "source": [
        "print(arr1.shape)"
      ]
    },
    {
      "cell_type": "code",
      "execution_count": null,
      "metadata": {
        "id": "GCBxgujrA-en",
        "outputId": "23577793-9030-406d-ac6e-aa20f10a75a2"
      },
      "outputs": [
        {
          "name": "stdout",
          "output_type": "stream",
          "text": [
            "2\n",
            "int32\n",
            "float64\n",
            "(2, 4)\n"
          ]
        }
      ],
      "source": [
        "print(arr2.ndim)\n",
        "print(arr2.dtype)\n",
        "print(arr1.dtype)\n",
        "print(arr2.shape)"
      ]
    },
    {
      "cell_type": "markdown",
      "metadata": {
        "id": "tv1ptkhyA-eo"
      },
      "source": [
        "#数组特点"
      ]
    },
    {
      "cell_type": "code",
      "execution_count": null,
      "metadata": {
        "id": "GRBU7hWBA-ep",
        "outputId": "cbf3e36a-531a-4f20-a534-14b2f1942ab2"
      },
      "outputs": [
        {
          "name": "stdout",
          "output_type": "stream",
          "text": [
            "[0.3, 0.5, 3.5]\n",
            "[0.3 0.5 3.5]\n",
            "[0.09, 0.25, 12.25]\n",
            "[ 0.09  0.25 12.25]\n"
          ]
        }
      ],
      "source": [
        "list1 = [0.3,0.5,3.5]\n",
        "arr1 = np.array([0.3,0.5,3.5])\n",
        "\n",
        "print(list1)\n",
        "print(arr1)\n",
        "\n",
        "print([i**2 for i in list1])\n",
        "print(arr1**2)"
      ]
    },
    {
      "cell_type": "code",
      "execution_count": null,
      "metadata": {
        "id": "-pjFviFRA-eq",
        "outputId": "621ef882-0807-4157-8dda-09ce573e64f9"
      },
      "outputs": [
        {
          "name": "stdout",
          "output_type": "stream",
          "text": [
            "[0 1 2 3 4 5 6 7 8 9]\n",
            "[0 1 2 3 4 5 6 7 8 9]\n",
            "[0.  0.1 0.2 0.3 0.4 0.5 0.6 0.7 0.8 0.9]\n"
          ]
        }
      ],
      "source": [
        "arr3 = np.arange(0,10)\n",
        "arr4 =np.arange(10)\n",
        "arr5 = np.arange(0,1,0.1)\n",
        "print(arr4)\n",
        "print(arr3)\n",
        "print(arr5)"
      ]
    },
    {
      "cell_type": "code",
      "execution_count": null,
      "metadata": {
        "id": "np4gaXnAA-er",
        "outputId": "d1fea6ea-d6c2-491e-d30e-512b5a579385"
      },
      "outputs": [
        {
          "name": "stdout",
          "output_type": "stream",
          "text": [
            "Help on built-in function arange in module numpy:\n",
            "\n",
            "arange(...)\n",
            "    arange([start,] stop[, step,], dtype=None)\n",
            "    \n",
            "    Return evenly spaced values within a given interval.\n",
            "    \n",
            "    Values are generated within the half-open interval ``[start, stop)``\n",
            "    (in other words, the interval including `start` but excluding `stop`).\n",
            "    For integer arguments the function is equivalent to the Python built-in\n",
            "    `range` function, but returns an ndarray rather than a list.\n",
            "    \n",
            "    When using a non-integer step, such as 0.1, the results will often not\n",
            "    be consistent.  It is better to use `numpy.linspace` for these cases.\n",
            "    \n",
            "    Parameters\n",
            "    ----------\n",
            "    start : number, optional\n",
            "        Start of interval.  The interval includes this value.  The default\n",
            "        start value is 0.\n",
            "    stop : number\n",
            "        End of interval.  The interval does not include this value, except\n",
            "        in some cases where `step` is not an integer and floating point\n",
            "        round-off affects the length of `out`.\n",
            "    step : number, optional\n",
            "        Spacing between values.  For any output `out`, this is the distance\n",
            "        between two adjacent values, ``out[i+1] - out[i]``.  The default\n",
            "        step size is 1.  If `step` is specified as a position argument,\n",
            "        `start` must also be given.\n",
            "    dtype : dtype\n",
            "        The type of the output array.  If `dtype` is not given, infer the data\n",
            "        type from the other input arguments.\n",
            "    \n",
            "    Returns\n",
            "    -------\n",
            "    arange : ndarray\n",
            "        Array of evenly spaced values.\n",
            "    \n",
            "        For floating point arguments, the length of the result is\n",
            "        ``ceil((stop - start)/step)``.  Because of floating point overflow,\n",
            "        this rule may result in the last element of `out` being greater\n",
            "        than `stop`.\n",
            "    \n",
            "    See Also\n",
            "    --------\n",
            "    numpy.linspace : Evenly spaced numbers with careful handling of endpoints.\n",
            "    numpy.ogrid: Arrays of evenly spaced numbers in N-dimensions.\n",
            "    numpy.mgrid: Grid-shaped arrays of evenly spaced numbers in N-dimensions.\n",
            "    \n",
            "    Examples\n",
            "    --------\n",
            "    >>> np.arange(3)\n",
            "    array([0, 1, 2])\n",
            "    >>> np.arange(3.0)\n",
            "    array([ 0.,  1.,  2.])\n",
            "    >>> np.arange(3,7)\n",
            "    array([3, 4, 5, 6])\n",
            "    >>> np.arange(3,7,2)\n",
            "    array([3, 5])\n",
            "\n"
          ]
        }
      ],
      "source": [
        "help(np.arange)"
      ]
    },
    {
      "cell_type": "code",
      "execution_count": null,
      "metadata": {
        "id": "sDEzjKTaA-es",
        "outputId": "04eeb186-985c-4e06-af36-0fa695289cba"
      },
      "outputs": [
        {
          "name": "stdout",
          "output_type": "stream",
          "text": [
            "[0.         0.11111111 0.22222222 0.33333333 0.44444444 0.55555556\n",
            " 0.66666667 0.77777778 0.88888889 1.        ]\n"
          ]
        }
      ],
      "source": [
        "arr6 =np.linspace(0,1,10)\n",
        "print(arr6)"
      ]
    },
    {
      "cell_type": "code",
      "execution_count": null,
      "metadata": {
        "id": "pCeWOLtYA-es",
        "outputId": "cfbf6869-6879-4fd1-909e-d07e22589264"
      },
      "outputs": [
        {
          "name": "stdout",
          "output_type": "stream",
          "text": [
            "[[[0. 0. 0. 0. 0.]\n",
            "  [0. 0. 0. 0. 0.]\n",
            "  [0. 0. 0. 0. 0.]\n",
            "  [0. 0. 0. 0. 0.]]\n",
            "\n",
            " [[0. 0. 0. 0. 0.]\n",
            "  [0. 0. 0. 0. 0.]\n",
            "  [0. 0. 0. 0. 0.]\n",
            "  [0. 0. 0. 0. 0.]]]\n"
          ]
        }
      ],
      "source": [
        "arr7 = np.zeros([2,4,5])\n",
        "print(arr7)"
      ]
    },
    {
      "cell_type": "markdown",
      "source": [
        "#掌握Numpy矩阵于通用函数"
      ],
      "metadata": {
        "id": "9dTL1bG1A-es"
      }
    },
    {
      "cell_type": "code",
      "source": [
        "import numpy as np\n",
        "matr1 = np.mat(\"1,2,3;4,5,6;7,8,9\")\n",
        "print(matr1)\n",
        "print(type(matr1))\n",
        "\n",
        "matr2 = np.matrix([[1,2,3],[4,5,6],[7,8,9]])\n",
        "print(matr2)\n",
        "print(type(matr2))\n",
        "#print(np.bmat('matr1 matr2;matr1,matr2'))  #矩阵拼接\n",
        "print(matr1.T)   #矩阵转置\n",
        "\n",
        "print(matr1.H)\n"
      ],
      "metadata": {
        "colab": {
          "base_uri": "https://localhost:8080/"
        },
        "id": "T98fdjJCFIQE",
        "outputId": "bdb8d6d6-2be7-46e9-af70-f4a98d5cebfb"
      },
      "execution_count": null,
      "outputs": [
        {
          "output_type": "stream",
          "name": "stdout",
          "text": [
            "[[1 2 3]\n",
            " [4 5 6]\n",
            " [7 8 9]]\n",
            "<class 'numpy.matrix'>\n",
            "[[1 2 3]\n",
            " [4 5 6]\n",
            " [7 8 9]]\n",
            "<class 'numpy.matrix'>\n",
            "[[1 4 7]\n",
            " [2 5 8]\n",
            " [3 6 9]]\n",
            "[[1 4 7]\n",
            " [2 5 8]\n",
            " [3 6 9]]\n"
          ]
        }
      ]
    },
    {
      "cell_type": "code",
      "source": [
        "arr1 = np.array([0.2,0.4,0.6])\n",
        "list1 = [0.2,0.4,0.6]\n",
        "arr2 = np.array([0.2,0.6,0.8])\n",
        "\n",
        "print(arr1+1)\n",
        "#print(list1+1)  非法操作\n",
        "print(arr1*2)\n",
        "print(list1*2)\n",
        "print(arr1+arr2)\n",
        "print(arr2*arr2)\n",
        "\n",
        "print(arr1>0.2)\n",
        "\n",
        "print(np.any(arr1>0.2))  #逻辑or\n",
        "print(np.all(arr1>0.2))   #逻辑and\n",
        "\n"
      ],
      "metadata": {
        "colab": {
          "base_uri": "https://localhost:8080/"
        },
        "id": "NMU-3nlX2Uuu",
        "outputId": "4eccfa76-c3bc-401e-fce0-99fe21f62c4a"
      },
      "execution_count": 12,
      "outputs": [
        {
          "output_type": "stream",
          "name": "stdout",
          "text": [
            "[1.2 1.4 1.6]\n",
            "[0.4 0.8 1.2]\n",
            "[0.2, 0.4, 0.6, 0.2, 0.4, 0.6]\n",
            "[0.4 1.  1.4]\n",
            "[0.04 0.36 0.64]\n",
            "[False  True  True]\n",
            "True\n",
            "False\n"
          ]
        }
      ]
    }
  ],
  "metadata": {
    "kernelspec": {
      "display_name": "Python 3",
      "language": "python",
      "name": "python3"
    },
    "language_info": {
      "codemirror_mode": {
        "name": "ipython",
        "version": 3
      },
      "file_extension": ".py",
      "mimetype": "text/x-python",
      "name": "python",
      "nbconvert_exporter": "python",
      "pygments_lexer": "ipython3",
      "version": "3.8.3"
    },
    "colab": {
      "name": "mypython.ipynb",
      "provenance": [],
      "collapsed_sections": [],
      "include_colab_link": true
    }
  },
  "nbformat": 4,
  "nbformat_minor": 0
}